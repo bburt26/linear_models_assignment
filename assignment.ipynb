{
  "cells": [
    {
      "cell_type": "markdown",
      "id": "e0c7b14a-e5aa-4abc-b48b-b8a9d20dacac",
      "metadata": {
        "id": "e0c7b14a-e5aa-4abc-b48b-b8a9d20dacac"
      },
      "source": [
        "# Assignment: Linear Models\n",
        "## Do two questions in total: \"Q1+Q2\" or \"Q1+Q3\"\n",
        "### `! git clone https://github.com/ds3001f25/linear_models_assignment.git`"
      ]
    },
    {
      "cell_type": "markdown",
      "id": "ca1cfba3",
      "metadata": {
        "vscode": {
          "languageId": "plaintext"
        },
        "id": "ca1cfba3"
      },
      "source": [
        "**Q1.** Let's explore multiple linear regression in a two-variable case, to build more intuition about what is happening.\n",
        "\n",
        "Suppose the model is\n",
        "$$\n",
        "\\hat{y}_i = b_0 + b_1 z_{i1} + b_2 z_{i2}\n",
        "$$\n",
        "Assume that $z_{ij}$ is centered or de-meaned, so that $z_{ij} = x_{ij} - m_j$ where $m_j$ is the mean of variable $j$ and $x_{ij}$ is the original value of variable $j$ for observation $i$. Notice that this implies\n",
        "$$\n",
        "\\dfrac{1}{N} \\sum_{i=1}^N z_{ij} = 0\n",
        "$$\n",
        "which will simplify your calculations below substantially!\n",
        "\n",
        "1. Write down the SSE for this model.\n",
        "2. Take partial derivatives with respect to $b_0$, $b_1$, and $b_2$.\n",
        "3. Verify that the average error is zero and $e \\cdot z =0$ at the optimum, just as in the single linear regression case.\n",
        "4. Show that the optimal intercept is $b_0^* = \\bar{y}$. Eliminate $b_0^*$ from the remaining equations, and focus on $b_1$ and $b_2$.\n",
        "5. Write your results as a matrix equation in the form \"$Ab=C$\". These are called the **normal equations**.\n",
        "6. Divide both sides by $N$ and substitute $z_{ij} = x_{ij} - m_j$ back into your normal equations for $x_{ij}$. What is the matrix $A$? What is the vector $C$? Explain the intuition of your discovery."
      ]
    },
    {
      "cell_type": "markdown",
      "source": [
        "I acknowledge that I have used AI to the extent permitted by the UVA\n",
        "AI acceptable use policy. I acknowlegde that I am aware of the possibility\n",
        "of AI producing errors and offensive content and certify that I\n",
        "have taken the necessary measures to ensure that the work produced is both\n",
        "accurate and ethical to the best of my ability."
      ],
      "metadata": {
        "id": "-wADw-rHs3kB"
      },
      "id": "-wADw-rHs3kB"
    },
    {
      "cell_type": "markdown",
      "source": [
        "A link to a doc with my equations can be found here:\n",
        "https://docs.google.com/document/d/1ZFWH7XI4MXAPO2FHyWhfJ2-E6sWyTZOaSpAiTHTLkPU/edit?usp=sharing\n",
        "\n"
      ],
      "metadata": {
        "id": "oxBZuj88tP0F"
      },
      "id": "oxBZuj88tP0F"
    },
    {
      "cell_type": "markdown",
      "id": "95f22300-0180-4ed2-be8f-ed56cf4cd36b",
      "metadata": {
        "id": "95f22300-0180-4ed2-be8f-ed56cf4cd36b"
      },
      "source": [
        "**Q2.** This question is a case study for linear models. The data are about car prices. In particular, they include:\n",
        "\n",
        "  - `Price`, `Color`, `Seating_Capacity`\n",
        "  - `Body_Type`: crossover, hatchback, muv, sedan, suv\n",
        "  - `Make`, `Make_Year`: The brand of car and year produced\n",
        "  - `Mileage_Run`: The number of miles on the odometer\n",
        "  - `Fuel_Type`: Diesel or gasoline/petrol\n",
        "  - `Transmission`, `Transmission_Type`:  speeds and automatic/manual\n",
        "\n",
        "  1. Load `cars_hw.csv`. These data were really dirty, and I've already cleaned them a significant amount in terms of missing values and other issues, but some issues remain (e.g. outliers, badly scaled variables that require a log or arcsinh transformation). Clean the data however you think is most appropriate.\n",
        "  2. Summarize the `Price` variable and create a kernel density plot. Use `.groupby()` and `.describe()` to summarize prices by brand (`Make`). Make a grouped kernel density plot by `Make`. Which car brands are the most expensive? What do prices look like in general?\n",
        "  3. Split the data into an 80% training set and a 20% testing set.\n",
        "  4. Make a model where you regress price on the numeric variables alone; what is the $R^2$ and `RMSE` on the training set and test set? Make a second model where, for the categorical variables, you regress price on a model comprised of one-hot encoded regressors/features alone (you can use `pd.get_dummies()`; be careful of the dummy variable trap); what is the $R^2$ and `RMSE` on the test set? Which model performs better on the test set? Make a third model that combines all the regressors from the previous two; what is the $R^2$ and `RMSE` on the test set? Does the joint model perform better or worse, and by home much?\n",
        "  5. Use the `PolynomialFeatures` function from `sklearn` to expand the set of numerical variables you're using in the regression. As you increase the degree of the expansion, how do the $R^2$ and `RMSE` change? At what point does $R^2$ go negative on the test set? For your best model with expanded features, what is the $R^2$ and `RMSE`? How does it compare to your best model from part 4?\n",
        "  6. For your best model so far, determine the predicted values for the test data and plot them against the true values. Do the predicted values and true values roughly line up along the diagonal, or not? Compute the residuals/errors for the test data and create a kernel density plot. Do the residuals look roughly bell-shaped around zero? Evaluate the strengths and weaknesses of your model."
      ]
    },
    {
      "cell_type": "code",
      "execution_count": null,
      "id": "0acc2b86",
      "metadata": {
        "id": "0acc2b86"
      },
      "outputs": [],
      "source": []
    },
    {
      "cell_type": "markdown",
      "id": "aedcd486",
      "metadata": {
        "id": "aedcd486"
      },
      "source": [
        "**Q3.** This question refers to the `heart_hw.csv` data. It contains three variables:\n",
        "\n",
        "  - `y`: Whether the individual survived for three years, coded 0 for death and 1 for survival\n",
        "  - `age`: Patient's age\n",
        "  - `transplant`: `control` for not receiving a transplant and `treatment` for receiving a transplant\n",
        "\n",
        "Since a heart transplant is a dangerous operation and even people who successfully get heart transplants might suffer later complications, we want to look at whether a group of transplant recipients tends to survive longer than a comparison group who does not get the procedure.\n",
        "\n",
        "1. Compute (a) the proportion of people who survive in the control group who do not receive a transplant, and (b) the difference between the proportion of people who survive in the treatment group and the proportion of people who survive in the control group. In a randomized controlled trial, this is called the **average treatment effect**.\n",
        "2. Regress `y` on `transplant` using a linear model with a constant. How does the constant/intercept of the regression and the coefficient on transplant compare to your answers from part 1? Explain the relationship clearly.\n",
        "3. We'd like to include `age` in the regression, since it's reasonable to expect that older patients are less likely to survive an extensive surgery like a heart transplant. Regress `y` on a constant, transplant, and age. How does the intercept change?\n",
        "4. Build a more flexible model that allows for non-linear age effects and interactions between age and treatment. Use a train-test split to validate your model. Estimate your best model, predict the survival probability by age, and plot your results conditional on receiving a transplant and not. Describe what you see.\n",
        "5. Imagine someone suggests using these kinds of models to select who receives organ transplants; perhaps the CDC or NIH starts using a scoring algorithm to decide who is contacted about a potential organ. What are your concerns about how it is built and how it is deployed?"
      ]
    },
    {
      "cell_type": "code",
      "source": [
        "import pandas as pd\n",
        "import numpy as np\n",
        "import seaborn as sns\n",
        "import matplotlib.pyplot as plt\n",
        "from sklearn.model_selection import train_test_split\n",
        "from sklearn.linear_model import LinearRegression\n",
        "\n",
        "heart = pd.read_csv(\"heart_hw.csv\")"
      ],
      "metadata": {
        "id": "aUJufaKDtwik"
      },
      "id": "aUJufaKDtwik",
      "execution_count": 42,
      "outputs": []
    },
    {
      "cell_type": "code",
      "execution_count": 43,
      "id": "d9b3a79a",
      "metadata": {
        "colab": {
          "base_uri": "https://localhost:8080/"
        },
        "id": "d9b3a79a",
        "outputId": "cd0c00a3-744f-4d07-d3f7-a2a6d8f3887d"
      },
      "outputs": [
        {
          "output_type": "stream",
          "name": "stdout",
          "text": [
            "(a) Control group survival rate: 0.11764706\n",
            "(b) Treatment group survival rate: 0.34782609\n",
            "Average Treatment Effect (ATE): 0.23017903\n"
          ]
        }
      ],
      "source": [
        "#3.1\n",
        "\n",
        "control_survival = heart.loc[heart['transplant'] == 'control', 'y'].mean()\n",
        "\n",
        "treatment_survival = heart.loc[heart['transplant'] == 'treatment', 'y'].mean()\n",
        "\n",
        "average_treatment_effect = treatment_survival - control_survival\n",
        "\n",
        "print(f\"(a) Control group survival rate: {control_survival:.8f}\")\n",
        "print(f\"(b) Treatment group survival rate: {treatment_survival:.8f}\")\n",
        "print(f\"Average Treatment Effect (ATE): {average_treatment_effect:.8f}\")\n"
      ]
    },
    {
      "cell_type": "code",
      "source": [
        "#3.2\n",
        "heart['transplant_dummy'] = (heart['transplant'] == 'treatment').astype(int)\n",
        "\n",
        "X = heart[['transplant_dummy']]\n",
        "y = heart['y']\n",
        "\n",
        "model = LinearRegression()\n",
        "model.fit(X, y)\n",
        "\n",
        "intercept = model.intercept_\n",
        "coefficient = model.coef_[0]\n",
        "\n",
        "print(f\"Intercept (control mean): {intercept:.8f}\")\n",
        "print(f\"Coefficient (ATE): {coefficient:.8f}\")\n"
      ],
      "metadata": {
        "colab": {
          "base_uri": "https://localhost:8080/"
        },
        "id": "83JsNRZSxWd-",
        "outputId": "92e22e7e-9dec-4db6-9a07-65b55640c1bd"
      },
      "id": "83JsNRZSxWd-",
      "execution_count": 31,
      "outputs": [
        {
          "output_type": "stream",
          "name": "stdout",
          "text": [
            "Intercept (control mean): 0.11764706\n",
            "Coefficient (ATE): 0.23017903\n"
          ]
        }
      ]
    },
    {
      "cell_type": "markdown",
      "source": [
        "The constant/intercept of the regression and the coefficient on transplant are the same between the regression and my computations from part 1 because they are using the same data. The only difference is the regression arrives at these numbers using a different method. When it comes to linear regression analysis, the intercept is what yields the baseline prediction when the coefficients are 0. So, the coefficients are what change the slope of the regression as they're multiplied with the intercept. In the context of this problem, the \"baseline\" prediction would be the control group since they don't receive any treatment. Treatment would be the \"coefficient\" since it's the determining factor in what changes the slope of the regression line (ie. the rate of survival). It makes sense that the coefficient would be the same as the average treatment effect (0.23017) because, essentially, they are the same thing: the coefficient is what's influencing the transformation in the control group survival rate, or, the difference in survival rates between the control group (who don't receive a transplant) and the treatment group (those who do receive one)."
      ],
      "metadata": {
        "id": "RP-0Ax-GRPIL"
      },
      "id": "RP-0Ax-GRPIL"
    },
    {
      "cell_type": "code",
      "source": [
        "#3.3\n",
        "\n",
        "heart['transplant_dummy'] = (heart['transplant'] == 'treatment').astype(int)\n",
        "\n",
        "X = heart[['transplant_dummy', 'age']]\n",
        "y = heart['y']\n",
        "\n",
        "model = LinearRegression(fit_intercept=True)\n",
        "model.fit(X, y)\n",
        "\n",
        "intercept = model.intercept_\n",
        "coef_transplant = model.coef_[0]\n",
        "coef_age = model.coef_[1]\n",
        "\n",
        "print(f\"Intercept (baseline survival): {intercept:.8f}\")\n",
        "print(f\"Coefficient on transplant (ATE, controlling for age): {coef_transplant:.8f}\")\n",
        "print(f\"Coefficient on age: {coef_age:.8f}\")\n",
        "\n"
      ],
      "metadata": {
        "colab": {
          "base_uri": "https://localhost:8080/"
        },
        "id": "6fzW_0zSyPGN",
        "outputId": "79d97231-2620-4282-a279-0abe5cacb549"
      },
      "id": "6fzW_0zSyPGN",
      "execution_count": 33,
      "outputs": [
        {
          "output_type": "stream",
          "name": "stdout",
          "text": [
            "Intercept (baseline survival): 0.70195697\n",
            "Coefficient on transplant (ATE, controlling for age): 0.26470169\n",
            "Coefficient on age: -0.01360722\n"
          ]
        }
      ]
    },
    {
      "cell_type": "markdown",
      "source": [
        "Here, the intercept increases greatly from that of part 2 where age wasn't factored into our regression. The large increase in intercept (baseline survival rate) displays how much age affected the liklihood of survival. When not accounted for, the survival rate hovered around 11.8% whereas, when age is controled, we see the survival rate hovering around 70.2%. We can now reasonably conclude that age is a significant factor in determining the survival rate as it is negatively correlated with survival (as age increases, your chances of surival decrease)."
      ],
      "metadata": {
        "id": "RQcAO9mMW867"
      },
      "id": "RQcAO9mMW867"
    },
    {
      "cell_type": "code",
      "source": [
        "#3.4\n",
        "\n",
        "heart['treatment'] = (heart['transplant'] == 'treatment').astype(int)\n",
        "\n",
        "heart['age_squared'] = heart['age'] ** 2\n",
        "heart['age_treatment'] = heart['age'] * heart['treatment']\n",
        "heart['age_squared_treatment'] = heart['age_squared'] * heart['treatment']\n",
        "\n",
        "features = ['age', 'age_squared', 'treatment', 'age_treatment', 'age_squared_treatment']\n",
        "X = heart[features]\n",
        "y = heart['y']\n",
        "\n",
        "X_train, X_test, y_train, y_test = train_test_split(X, y, test_size=0.3, random_state=42)\n",
        "\n",
        "model = LinearRegression()\n",
        "model.fit(X_train, y_train)\n",
        "\n",
        "ages = np.arange(int(heart['age'].min()), int(heart['age'].max()) + 1)\n",
        "for treatment_status in [0, 1]:\n",
        "    age_squared = ages ** 2\n",
        "    age_treatment = ages * treatment_status\n",
        "    age_squared_treatment = age_squared * treatment_status\n",
        "    X_pred = pd.DataFrame({\n",
        "        'age': ages,\n",
        "        'age_squared': age_squared,\n",
        "        'treatment': treatment_status,\n",
        "        'age_treatment': age_treatment,\n",
        "        'age_squared_treatment': age_squared_treatment\n",
        "    })\n",
        "    survival_pred = model.predict(X_pred)\n",
        "    label = 'Treatment (Transplant)' if treatment_status == 1 else 'Control (No Transplant)'\n",
        "    plt.plot(ages, survival_pred, label=label)\n",
        "\n",
        "plt.xlabel('Age')\n",
        "plt.ylabel('Predicted Probability of 3-Year Survival')\n",
        "plt.title('Predicted Survival Probability by Age and Treatment Status')\n",
        "plt.legend(loc='center left', bbox_to_anchor=(1, 0.5))\n",
        "plt.grid(True)\n",
        "plt.tight_layout()\n",
        "plt.show()\n"
      ],
      "metadata": {
        "colab": {
          "base_uri": "https://localhost:8080/",
          "height": 487
        },
        "id": "mjF9_jxCzvGr",
        "outputId": "8801b979-b367-414a-a2a6-d544072cb658"
      },
      "id": "mjF9_jxCzvGr",
      "execution_count": 41,
      "outputs": [
        {
          "output_type": "display_data",
          "data": {
            "text/plain": [
              "<Figure size 640x480 with 1 Axes>"
            ],
            "image/png": "[encoded data removed]"
          },
          "metadata": {}
        }
      ]
    },
    {
      "cell_type": "markdown",
      "source": [
        "The graph of the regression model shows us, on the simplest level, that receiving a transplant is the optimal route to take to optimize chances of survival. We know this because the regression lines for the contrl and treatment groups never intersect, meaning that the chances for survival are always higher when treatment is received, regardless of age.\n",
        "\n",
        "With that said, there is relatively linear negative correlation between age and survival within the treatment group. As age increases, survival chances decrease. Curiously, in the control group, the regression curve is more parabolic, showing that there is an optimal age (maximum) for survival if no treatment is received (~32 years of age).\n",
        "\n",
        "The key insight lies however in the difference in survival rates between control and treatment groups between the ages of 0 to roughly this 32 years age marker. The earlier you receive a transplant, the greater your survival chances will be relative to the survival chances of the control group before the age of ~32. But oddly enough, the chances go up between 0 and ~32 when in the control group but go down in the treatment group in this same window. The only difference is that the treatment group's odds are much higher, despite the fact that they decrease with age (when the control group's odds increase with age before ~32)."
      ],
      "metadata": {
        "id": "5S21M9xKYjQL"
      },
      "id": "5S21M9xKYjQL"
    },
    {
      "cell_type": "markdown",
      "source": [
        "# 3.5\n",
        "\n",
        "\n",
        "Imagine someone suggests using these kinds of models to select who receives organ transplants; perhaps the CDC or NIH starts using a scoring algorithm to decide who is contacted about a potential organ. What are your concerns about how it is built and how it is deployed?\n",
        "\n",
        "\n",
        "Were they to suggest this, I would be most concerned about how they award \"points\" and score potential candidates. As we've discussed, we see that there is only a marginal increase in surival odds after the age of 32. Beyond that point, the survival odds go down together at a constant rate as age increases.\n",
        "\n",
        "It seems to me that higher scores (highest priority organ recipients) should be given to patients who have the greatest increase in odds of survival  if given a transplant. As our model shows us, those people woud be the younger people. They would be scored more highly since the younger they are, the greater the difference in their survival rate (ie. the greatest gaps between the control survival line and treatment survival line).\n",
        "\n",
        "Now, while our algorithm is helpful in determining how age affects chances of survival between treatment and no treatment, it fails to take into consideration of a plethora of other factors which all may contribute to the chances of survival. For instance, although we might award a 10 yeard old the highest score according to our model factoring in age into survival chances, the chances may be even higher for a 55 year old if we take into account that the 55 year old has an underlying heart condition that would almost certainly result in death if he's not"
      ],
      "metadata": {
        "id": "hWP7DkdU3w11"
      },
      "id": "hWP7DkdU3w11"
    }
  ],
  "metadata": {
    "colab": {
      "provenance": []
    },
    "kernelspec": {
      "display_name": "Python 3 (ipykernel)",
      "language": "python",
      "name": "python3"
    },
    "language_info": {
      "codemirror_mode": {
        "name": "ipython",
        "version": 3
      },
      "file_extension": ".py",
      "mimetype": "text/x-python",
      "name": "python",
      "nbconvert_exporter": "python",
      "pygments_lexer": "ipython3",
      "version": "3.10.18"
    }
  },
  "nbformat": 4,
  "nbformat_minor": 5
}